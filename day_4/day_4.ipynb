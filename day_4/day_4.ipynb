{
 "cells": [
  {
   "cell_type": "code",
   "execution_count": 1,
   "id": "dd097582-e073-464a-b0d0-52bd617da273",
   "metadata": {},
   "outputs": [],
   "source": [
    "import pandas as pd \n",
    "import numpy as np "
   ]
  },
  {
   "cell_type": "code",
   "execution_count": 2,
   "id": "9c2ff6e6-6a89-4d94-8ed8-83666ed93a3b",
   "metadata": {},
   "outputs": [],
   "source": [
    "numbers, *boards = [x for x in open('input.txt').read().strip().split('\\n\\n')]\n",
    "numbers= [int(n) for n in numbers.split(',')]\n",
    "boards = [np.array([[int(n) for n in line.split()] for line in board.splitlines()]) for board in boards]\n"
   ]
  },
  {
   "cell_type": "code",
   "execution_count": 3,
   "id": "d30261fa-9261-43a6-befb-691c1644545f",
   "metadata": {},
   "outputs": [],
   "source": [
    "def update(board, number):\n",
    "    new = board.copy()\n",
    "    new[new == number] = -1\n",
    "    return new"
   ]
  },
  {
   "cell_type": "code",
   "execution_count": 4,
   "id": "6db3894b-3eb0-4f0d-91ac-fbdd487da806",
   "metadata": {},
   "outputs": [],
   "source": [
    "def check(board):\n",
    "    if any(board.sum(0) == -5) or any(board.sum(1) == -5):\n",
    "        return True\n",
    "    return False"
   ]
  },
  {
   "cell_type": "code",
   "execution_count": 5,
   "id": "efe3a1c0-5d95-47e0-957e-e15260d7b230",
   "metadata": {},
   "outputs": [],
   "source": [
    "wins = [0] * len(boards)"
   ]
  },
  {
   "cell_type": "code",
   "execution_count": 6,
   "id": "5932fd90-c088-4f89-b87b-fe29e89ee8d5",
   "metadata": {},
   "outputs": [
    {
     "name": "stdout",
     "output_type": "stream",
     "text": [
      "part 1 ans: 8442\n",
      "part 2 ans: 4590\n"
     ]
    }
   ],
   "source": [
    "for number in numbers:\n",
    "    for i in range(len(boards)):\n",
    "        boards[i] = update(boards[i], number)\n",
    "        if wins[i] == 0 and check(boards[i]):\n",
    "            result = number * (boards[i][boards[i] != -1].sum())\n",
    "            wins[i] = 1\n",
    "            if sum(wins) == 1:\n",
    "                part1 = result\n",
    "            if sum(wins) == len(boards):\n",
    "                part2 = result\n",
    "                break\n",
    "    if sum(wins) == len(boards):\n",
    "        break\n",
    "print(f\"part 1 ans: {part1}\")\n",
    "print(f'part 2 ans: {part2}')"
   ]
  }
 ],
 "metadata": {
  "kernelspec": {
   "display_name": "Python 3 (ipykernel)",
   "language": "python",
   "name": "python3"
  },
  "language_info": {
   "codemirror_mode": {
    "name": "ipython",
    "version": 3
   },
   "file_extension": ".py",
   "mimetype": "text/x-python",
   "name": "python",
   "nbconvert_exporter": "python",
   "pygments_lexer": "ipython3",
   "version": "3.9.5"
  }
 },
 "nbformat": 4,
 "nbformat_minor": 5
}
