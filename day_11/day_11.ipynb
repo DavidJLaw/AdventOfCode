{
 "cells": [
  {
   "cell_type": "code",
   "execution_count": 5,
   "id": "8beb68ad-ff71-4400-ab6c-25c0f163273f",
   "metadata": {},
   "outputs": [],
   "source": [
    "from scipy.ndimage import generic_filter\n",
    "import numpy as np"
   ]
  },
  {
   "cell_type": "code",
   "execution_count": 6,
   "id": "c4afe297-493f-4e5d-8c97-f4c5230e1e56",
   "metadata": {},
   "outputs": [],
   "source": [
    "data = np.loadtxt('input.txt', dtype=str)\n",
    "data = np.array([np.array(list(i)) for i in data]).astype(int)\n",
    "flashed = np.zeros_like(data, dtype=bool)\n",
    "countFlash = 0"
   ]
  },
  {
   "cell_type": "code",
   "execution_count": 7,
   "id": "648f3f2c-56e2-4be1-91f5-f543288177b7",
   "metadata": {},
   "outputs": [],
   "source": [
    "for i in range(1000):\n",
    "    if i == 100: part1 = countFlash\n",
    "    if flashed.sum() == 100: break\n",
    "    data = data + 1  \n",
    "    flashed = flashed * False  \n",
    "    while True:\n",
    "        dataO = generic_filter(input=data, function=lambda data: (data > 9).sum() - (data[4] > 9), footprint=np.ones((3,3)), mode=\"constant\")\n",
    "        flashed = flashed + (data > 9) \n",
    "        data[flashed] = 0 \n",
    "        data = dataO + data \n",
    "        if dataO.sum() == 0: break \n",
    "    countFlash += flashed.sum()"
   ]
  },
  {
   "cell_type": "code",
   "execution_count": 8,
   "id": "f60b80c8-6763-4cd5-a859-4d6228b03c4d",
   "metadata": {},
   "outputs": [
    {
     "name": "stdout",
     "output_type": "stream",
     "text": [
      "part 1 : 1640\n",
      "part 2 : 312\n"
     ]
    }
   ],
   "source": [
    "print(f'part 1 : {part1}')\n",
    "print(f'part 2 : {i}')"
   ]
  }
 ],
 "metadata": {
  "kernelspec": {
   "display_name": "Python 3 (ipykernel)",
   "language": "python",
   "name": "python3"
  },
  "language_info": {
   "codemirror_mode": {
    "name": "ipython",
    "version": 3
   },
   "file_extension": ".py",
   "mimetype": "text/x-python",
   "name": "python",
   "nbconvert_exporter": "python",
   "pygments_lexer": "ipython3",
   "version": "3.9.5"
  }
 },
 "nbformat": 4,
 "nbformat_minor": 5
}
