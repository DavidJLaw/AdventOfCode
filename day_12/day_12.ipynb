{
 "cells": [
  {
   "cell_type": "code",
   "execution_count": 1,
   "id": "e89c6524-4849-4679-b62a-a47d118e305b",
   "metadata": {},
   "outputs": [],
   "source": [
    "from collections import defaultdict, deque"
   ]
  },
  {
   "cell_type": "code",
   "execution_count": 2,
   "id": "2cb482e4-f343-447e-8add-724be06fa759",
   "metadata": {},
   "outputs": [
    {
     "name": "stdout",
     "output_type": "stream",
     "text": [
      "Part 1: 5254\n"
     ]
    }
   ],
   "source": [
    "caves = defaultdict(list)\n",
    "with open('input.txt') as file:\n",
    "    for line in file.read().splitlines():\n",
    "        start, exit = line.split('-')\n",
    "        caves[start].append(exit)\n",
    "        caves[exit].append(start)\n",
    "\n",
    "def paths(cave='start', small_cave=()):\n",
    "    if cave == 'end':\n",
    "        return 1\n",
    "    if cave in small_cave:\n",
    "        return 0\n",
    "    if cave.islower():\n",
    "        small_cave += (cave,)\n",
    "    return sum(paths(next_cave, small_cave) for next_cave in caves[cave])\n",
    "\n",
    "print(f'Part 1: {paths()}')"
   ]
  },
  {
   "cell_type": "code",
   "execution_count": 3,
   "id": "4dfed252-a046-41df-8649-2c23ab15ecd2",
   "metadata": {},
   "outputs": [
    {
     "name": "stdout",
     "output_type": "stream",
     "text": [
      " Part 2: 149385\n"
     ]
    }
   ],
   "source": [
    "def bfs(start, goal):\n",
    "    cave_queue = deque([(start,set(),True)])\n",
    "    while cave_queue:\n",
    "        current_cave,visited1,visited2 = cave_queue.popleft()\n",
    "        if current_cave == goal:\n",
    "            yield 1\n",
    "            continue    \n",
    "        if current_cave.islower():\n",
    "            visited2 &= current_cave not in visited1\n",
    "            visited1.add(current_cave)\n",
    "        for cave in caves[current_cave]:\n",
    "            if cave not in visited1 or visited2 and cave != start:\n",
    "                cave_queue.append((cave,visited1.copy(),visited2))\n",
    "part_2 = sum(bfs('start', 'end'))\n",
    "print(f' Part 2: {part_2}')"
   ]
  }
 ],
 "metadata": {
  "kernelspec": {
   "display_name": "Python 3",
   "language": "python",
   "name": "python3"
  },
  "language_info": {
   "codemirror_mode": {
    "name": "ipython",
    "version": 3
   },
   "file_extension": ".py",
   "mimetype": "text/x-python",
   "name": "python",
   "nbconvert_exporter": "python",
   "pygments_lexer": "ipython3",
   "version": "3.9.5"
  }
 },
 "nbformat": 4,
 "nbformat_minor": 5
}
