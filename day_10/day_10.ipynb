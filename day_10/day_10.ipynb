{
 "cells": [
  {
   "cell_type": "code",
   "execution_count": 1,
   "id": "64af686c-f5ad-48f2-8f98-0d45a39fa483",
   "metadata": {},
   "outputs": [],
   "source": [
    "data = [x for x in open('input.txt').read().strip().split('\\n')]"
   ]
  },
  {
   "cell_type": "code",
   "execution_count": 2,
   "id": "bfb85ffc-aff9-4a64-b59c-9c675c272301",
   "metadata": {},
   "outputs": [
    {
     "name": "stdout",
     "output_type": "stream",
     "text": [
      "392043\n",
      "1605968119\n"
     ]
    }
   ],
   "source": [
    "point_values = {')': 3, ']': 57, '}': 1197, '>': 25137}\n",
    "closing = {'(': ')', '[': ']', '{': '}', '<': '>'}\n",
    "r1 = 0\n",
    "incomplete = []\n",
    "for line in data:\n",
    "    state = []\n",
    "    for char in line:\n",
    "        if char in closing:\n",
    "            state.append(char)\n",
    "        elif char != closing[state.pop()]:\n",
    "            r1 += point_values[char]\n",
    "            break\n",
    "    else:\n",
    "        incomplete.append(state)\n",
    "\n",
    "print(r1)\n",
    "\n",
    "point_values = {')': 1, ']': 2, '}': 3, '>': 4}\n",
    "\n",
    "scores = []\n",
    "for line in incomplete:\n",
    "    score = 0\n",
    "    while line:\n",
    "        score = score * 5 + point_values[closing[line.pop()]]\n",
    "    scores.append(score)\n",
    "        \n",
    "print(sorted(scores)[len(scores)//2])"
   ]
  }
 ],
 "metadata": {
  "kernelspec": {
   "display_name": "Python 3 (ipykernel)",
   "language": "python",
   "name": "python3"
  },
  "language_info": {
   "codemirror_mode": {
    "name": "ipython",
    "version": 3
   },
   "file_extension": ".py",
   "mimetype": "text/x-python",
   "name": "python",
   "nbconvert_exporter": "python",
   "pygments_lexer": "ipython3",
   "version": "3.9.5"
  }
 },
 "nbformat": 4,
 "nbformat_minor": 5
}
