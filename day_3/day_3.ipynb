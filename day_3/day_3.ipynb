{
 "cells": [
  {
   "cell_type": "code",
   "execution_count": 1,
   "id": "86f8d707-5bee-4864-8c3b-5c3c275d865b",
   "metadata": {},
   "outputs": [],
   "source": [
    "import pandas as pd "
   ]
  },
  {
   "cell_type": "markdown",
   "id": "136a7021-7431-4ed9-b3a5-0d09f8f36828",
   "metadata": {},
   "source": [
    "# part 1 "
   ]
  },
  {
   "cell_type": "code",
   "execution_count": 2,
   "id": "0f475370-e949-4329-b38a-77921dc0a1a9",
   "metadata": {},
   "outputs": [],
   "source": [
    "data = [x for x in open('input.txt').read().strip().split('\\n')]"
   ]
  },
  {
   "cell_type": "code",
   "execution_count": 3,
   "id": "b016ed8b-b375-46ff-a975-c05267b31d6a",
   "metadata": {},
   "outputs": [],
   "source": [
    "df = pd.DataFrame(data=[list(i) for i in data])\n"
   ]
  },
  {
   "cell_type": "code",
   "execution_count": 4,
   "id": "c52f4b06-5d4b-4ec5-9474-b6dcac7f1adc",
   "metadata": {},
   "outputs": [],
   "source": [
    "binary_number = df.mode().sum().sum()"
   ]
  },
  {
   "cell_type": "code",
   "execution_count": 5,
   "id": "dd53db02-8531-41ce-a8f3-a8f4f23bc379",
   "metadata": {},
   "outputs": [],
   "source": [
    "gamma = int(binary_number,2)\n",
    "flipped_binary = ''.join([str(1 - int(i)) for i in binary_number])\n",
    "epsilon = int(flipped_binary, 2)"
   ]
  },
  {
   "cell_type": "code",
   "execution_count": 6,
   "id": "a1aef0cc-c594-442c-8c17-25ce6bdf58b6",
   "metadata": {},
   "outputs": [
    {
     "data": {
      "text/plain": [
       "3009600"
      ]
     },
     "execution_count": 6,
     "metadata": {},
     "output_type": "execute_result"
    }
   ],
   "source": [
    "gamma * epsilon"
   ]
  },
  {
   "cell_type": "markdown",
   "id": "679c515c-afc7-49c8-840b-56fbdf089adf",
   "metadata": {},
   "source": [
    "# part 2 "
   ]
  },
  {
   "cell_type": "code",
   "execution_count": 7,
   "id": "8247ee6e-a9e5-4372-b404-9b3e4b5b96d6",
   "metadata": {},
   "outputs": [
    {
     "name": "stdout",
     "output_type": "stream",
     "text": [
      "3939\n"
     ]
    }
   ],
   "source": [
    "dfo2 = df.copy()\n",
    "for digit in dfo2.columns:\n",
    "    mode = dfo2[digit].mode()\n",
    "    if len(mode) > 1:\n",
    "        dfo2 = dfo2[dfo2[digit].values == '1']\n",
    "    else:\n",
    "        dfo2 = dfo2[dfo2[digit].values == mode.iloc[0]]\n",
    "    if len(dfo2) == 1:\n",
    "        o2 = int(dfo2.iloc[0].sum(),2)\n",
    "        break\n",
    "print(o2)"
   ]
  },
  {
   "cell_type": "code",
   "execution_count": 12,
   "id": "d278b9bf-08fb-4e7d-a2e4-121ce99e0952",
   "metadata": {
    "tags": []
   },
   "outputs": [
    {
     "name": "stdout",
     "output_type": "stream",
     "text": [
      "1762\n"
     ]
    }
   ],
   "source": [
    "dfco2 = df.copy()\n",
    "for digit in dfco2.columns:\n",
    "    mode = dfco2[digit].mode()\n",
    "    if len(mode) > 1:\n",
    "        dfco2 = dfco2[dfco2[digit].values == '0']\n",
    "    else:\n",
    "        dfco2 = dfco2[dfco2[digit].values != mode.iloc[0]]\n",
    "    if len(dfco2) == 1:\n",
    "        CO2 = int(dfco2.iloc[0].sum(),2)\n",
    "        break\n",
    "print (CO2)"
   ]
  },
  {
   "cell_type": "code",
   "execution_count": 13,
   "id": "2710f401-37d6-4484-bd13-5d373672cc17",
   "metadata": {},
   "outputs": [
    {
     "data": {
      "text/plain": [
       "6940518"
      ]
     },
     "execution_count": 13,
     "metadata": {},
     "output_type": "execute_result"
    }
   ],
   "source": [
    "o2*CO2"
   ]
  }
 ],
 "metadata": {
  "kernelspec": {
   "display_name": "Python 3 (ipykernel)",
   "language": "python",
   "name": "python3"
  },
  "language_info": {
   "codemirror_mode": {
    "name": "ipython",
    "version": 3
   },
   "file_extension": ".py",
   "mimetype": "text/x-python",
   "name": "python",
   "nbconvert_exporter": "python",
   "pygments_lexer": "ipython3",
   "version": "3.9.5"
  }
 },
 "nbformat": 4,
 "nbformat_minor": 5
}
