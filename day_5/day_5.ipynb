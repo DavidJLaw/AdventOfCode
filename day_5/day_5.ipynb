{
 "cells": [
  {
   "cell_type": "code",
   "execution_count": 1,
   "id": "2519bc3c-e610-49ae-8081-630039a0fb66",
   "metadata": {},
   "outputs": [],
   "source": [
    "from numpy import sign\n",
    "from collections import defaultdict\n",
    "from re import findall"
   ]
  },
  {
   "cell_type": "code",
   "execution_count": 2,
   "id": "fd1333dc-9545-4e37-933b-ff20c45ae08d",
   "metadata": {},
   "outputs": [],
   "source": [
    "data = [x for x in open('input.txt').read().strip().split('\\n')]"
   ]
  },
  {
   "cell_type": "code",
   "execution_count": 3,
   "id": "90a10615-394e-450a-85af-b2226df42a01",
   "metadata": {},
   "outputs": [],
   "source": [
    "answer = defaultdict(int)\n",
    "answer2 = defaultdict(int)"
   ]
  },
  {
   "cell_type": "code",
   "execution_count": 4,
   "id": "543641e5-d28e-4037-b82d-15c70dd353a0",
   "metadata": {},
   "outputs": [],
   "source": [
    "for line in data:\n",
    "    x1,y1, x2,y2 = map(int, findall(r'(\\d+)', line))\n",
    "    dx, dy = map(sign, (x2-x1, y2-y1))\n",
    "    if dx==0 or dy ==0:\n",
    "        while (x1,y1) != (x2+dx, y2+dy):\n",
    "            answer[(x1,y1)] += 1\n",
    "            x1, y1 = x1 + dx, y1 + dy"
   ]
  },
  {
   "cell_type": "code",
   "execution_count": 5,
   "id": "6ea1dc7e-28b7-46c6-b5f6-349535a1efa1",
   "metadata": {},
   "outputs": [
    {
     "name": "stdout",
     "output_type": "stream",
     "text": [
      "part 1: 4993\n"
     ]
    }
   ],
   "source": [
    "print(f\"part 1: {sum(x > 1 for x in answer.values())}\")"
   ]
  },
  {
   "cell_type": "code",
   "execution_count": 6,
   "id": "0daf4509-11fc-48e7-9824-722d3761b61c",
   "metadata": {},
   "outputs": [],
   "source": [
    "for line in data:\n",
    "    x1,y1, x2,y2 = map(int, findall(r'(\\d+)', line))\n",
    "    dx, dy = map(sign, (x2-x1, y2-y1))\n",
    "    while (x1,y1) != (x2+dx, y2+dy):\n",
    "        answer2[(x1,y1)] += 1\n",
    "        x1, y1 = x1 + dx, y1 + dy"
   ]
  },
  {
   "cell_type": "code",
   "execution_count": 7,
   "id": "932b3638-bac2-4a2b-99a7-83e5fc20e7b0",
   "metadata": {},
   "outputs": [
    {
     "name": "stdout",
     "output_type": "stream",
     "text": [
      "part 2: 21101\n"
     ]
    }
   ],
   "source": [
    "print(f\"part 2: {sum(x > 1 for x in answer2.values())}\")"
   ]
  }
 ],
 "metadata": {
  "kernelspec": {
   "display_name": "Python 3 (ipykernel)",
   "language": "python",
   "name": "python3"
  },
  "language_info": {
   "codemirror_mode": {
    "name": "ipython",
    "version": 3
   },
   "file_extension": ".py",
   "mimetype": "text/x-python",
   "name": "python",
   "nbconvert_exporter": "python",
   "pygments_lexer": "ipython3",
   "version": "3.9.5"
  }
 },
 "nbformat": 4,
 "nbformat_minor": 5
}
