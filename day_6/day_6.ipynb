{
 "cells": [
  {
   "cell_type": "code",
   "execution_count": 1,
   "id": "a4c65caa-13ae-4ba7-bd6a-6af80e9d42bc",
   "metadata": {},
   "outputs": [],
   "source": [
    "from collections import deque"
   ]
  },
  {
   "cell_type": "code",
   "execution_count": 2,
   "id": "4278fef0-d99a-4aad-afcd-e3015a085f60",
   "metadata": {},
   "outputs": [],
   "source": [
    "data = [x for x in map(int,open('input.txt').read().strip().split(','))]\n"
   ]
  },
  {
   "cell_type": "code",
   "execution_count": 3,
   "id": "a320dd30-0a10-473f-b4e6-d68b796212f4",
   "metadata": {},
   "outputs": [],
   "source": [
    "fish = deque([0] * 9)\n"
   ]
  },
  {
   "cell_type": "code",
   "execution_count": 4,
   "id": "68d28f6c-8d32-47b4-8ee7-859d9ae7cc8c",
   "metadata": {},
   "outputs": [],
   "source": [
    "for line in data: \n",
    "    fish[line] +=1"
   ]
  },
  {
   "cell_type": "code",
   "execution_count": 5,
   "id": "b39b4f56-0246-4871-a182-33cf6b26601e",
   "metadata": {},
   "outputs": [
    {
     "name": "stdout",
     "output_type": "stream",
     "text": [
      "1721148811504\n"
     ]
    }
   ],
   "source": [
    "DAYS = 256\n",
    "for _ in range (DAYS):\n",
    "    fish.rotate(-1)\n",
    "    fish[6] += fish[8]\n",
    "print(sum(fish))"
   ]
  }
 ],
 "metadata": {
  "kernelspec": {
   "display_name": "Python 3",
   "language": "python",
   "name": "python3"
  },
  "language_info": {
   "codemirror_mode": {
    "name": "ipython",
    "version": 3
   },
   "file_extension": ".py",
   "mimetype": "text/x-python",
   "name": "python",
   "nbconvert_exporter": "python",
   "pygments_lexer": "ipython3",
   "version": "3.9.5"
  }
 },
 "nbformat": 4,
 "nbformat_minor": 5
}
