{
 "cells": [
  {
   "cell_type": "code",
   "execution_count": 1,
   "id": "cd0804f5-375d-4911-b042-dc007b9e5ace",
   "metadata": {},
   "outputs": [],
   "source": [
    "import numpy as np"
   ]
  },
  {
   "cell_type": "code",
   "execution_count": 2,
   "id": "17589f12-0501-4ebd-8e5f-01fff62d4b6f",
   "metadata": {},
   "outputs": [],
   "source": [
    "data = sorted([int(x) for x in open('input.txt').read().strip().split(',')])\n",
    "testdata = sorted([16,1,2,0,4,2,7,1,2,14])"
   ]
  },
  {
   "cell_type": "markdown",
   "id": "fa19c14b-6e8a-430b-90f6-0be5031c1270",
   "metadata": {},
   "source": [
    "## Part 1"
   ]
  },
  {
   "cell_type": "code",
   "execution_count": 3,
   "id": "c132e385-a28e-4a25-82bd-9226c1a362ba",
   "metadata": {},
   "outputs": [
    {
     "data": {
      "text/plain": [
       "354129"
      ]
     },
     "execution_count": 3,
     "metadata": {},
     "output_type": "execute_result"
    }
   ],
   "source": [
    "sum([np.abs(line - int(np.median(data))) for line in data])"
   ]
  },
  {
   "cell_type": "markdown",
   "id": "5c676aa1-1051-43fa-92b9-67b73fa65c09",
   "metadata": {},
   "source": [
    "## Part 2"
   ]
  },
  {
   "cell_type": "code",
   "execution_count": 4,
   "id": "75f46503-c28f-426c-b2c7-90f9a4e76578",
   "metadata": {},
   "outputs": [
    {
     "data": {
      "text/plain": [
       "98905973"
      ]
     },
     "execution_count": 4,
     "metadata": {},
     "output_type": "execute_result"
    }
   ],
   "source": [
    "int(sum([((np.abs(line-(round(np.mean(data))-1))/2)*(np.abs(line-(round(np.mean(data))-1))+1)) for line in data]))"
   ]
  }
 ],
 "metadata": {
  "kernelspec": {
   "display_name": "Python 3 (ipykernel)",
   "language": "python",
   "name": "python3"
  },
  "language_info": {
   "codemirror_mode": {
    "name": "ipython",
    "version": 3
   },
   "file_extension": ".py",
   "mimetype": "text/x-python",
   "name": "python",
   "nbconvert_exporter": "python",
   "pygments_lexer": "ipython3",
   "version": "3.9.5"
  }
 },
 "nbformat": 4,
 "nbformat_minor": 5
}
