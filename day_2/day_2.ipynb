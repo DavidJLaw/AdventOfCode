{
 "cells": [
  {
   "cell_type": "markdown",
   "id": "70e332a9-4186-4a7a-abed-11af29722157",
   "metadata": {},
   "source": [
    "# Part 1 "
   ]
  },
  {
   "cell_type": "code",
   "execution_count": 3,
   "id": "6ee0c435-d69c-40a8-b0d5-175167ccef5b",
   "metadata": {},
   "outputs": [
    {
     "name": "stdout",
     "output_type": "stream",
     "text": [
      "1427868\n"
     ]
    }
   ],
   "source": [
    "data = [x for x in open('input.txt').read().strip().split('\\n')]\n",
    "horizontal_pos = 0\n",
    "depth = 0\n",
    "for row in data:\n",
    " if row.split(\" \")[0] == \"down\":\n",
    "    depth += int(row.split(\" \")[1])\n",
    " if row.split(\" \")[0] == \"up\":\n",
    "    depth -= int(row.split(\" \")[1])\n",
    " if row.split(\" \")[0] == \"forward\":\n",
    "    horizontal_pos += int(row.split(\" \")[1])\n",
    "print(horizontal_pos*depth)"
   ]
  },
  {
   "cell_type": "markdown",
   "id": "e64aad27-3db9-4028-bfdc-c087fb5a1a20",
   "metadata": {},
   "source": [
    "# Part 2"
   ]
  },
  {
   "cell_type": "code",
   "execution_count": 4,
   "id": "8b765317-75a2-45de-a230-c55648e5cb53",
   "metadata": {},
   "outputs": [
    {
     "name": "stdout",
     "output_type": "stream",
     "text": [
      "1568138742\n"
     ]
    }
   ],
   "source": [
    "horizontal_pos = 0\n",
    "depth = 0\n",
    "aim = 0\n",
    "for row in data:\n",
    " if row.split(\" \")[0] == \"down\":\n",
    "    depth += int(row.split(\" \")[1])\n",
    " if row.split(\" \")[0] == \"up\":\n",
    "    depth -= int(row.split(\" \")[1])\n",
    " if row.split(\" \")[0] == \"forward\":\n",
    "    aim += int(row.split(\" \")[1])*depth\n",
    "    horizontal_pos += int(row.split(\" \")[1])\n",
    "print(horizontal_pos*aim)"
   ]
  }
 ],
 "metadata": {
  "kernelspec": {
   "display_name": "Python 3 (ipykernel)",
   "language": "python",
   "name": "python3"
  },
  "language_info": {
   "codemirror_mode": {
    "name": "ipython",
    "version": 3
   },
   "file_extension": ".py",
   "mimetype": "text/x-python",
   "name": "python",
   "nbconvert_exporter": "python",
   "pygments_lexer": "ipython3",
   "version": "3.9.5"
  }
 },
 "nbformat": 4,
 "nbformat_minor": 5
}
