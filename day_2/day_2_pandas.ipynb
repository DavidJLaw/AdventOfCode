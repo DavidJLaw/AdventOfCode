{
 "cells": [
  {
   "cell_type": "code",
   "execution_count": 1,
   "id": "41af11c8",
   "metadata": {},
   "outputs": [],
   "source": [
    "import pandas as pd"
   ]
  },
  {
   "cell_type": "markdown",
   "id": "21e9772f",
   "metadata": {},
   "source": [
    "# Part 1\n",
    "Now, you need to figure out how to pilot this thing.\n",
    "\n",
    "It seems like the submarine can take a series of commands like forward 1, down 2, or up 3:\n",
    "\n",
    "forward X increases the horizontal position by X units. down X increases the depth by X units. up X decreases the depth by X units. Note that since you're on a submarine, down and up affect your depth, and so they have the opposite result of what you might expect.\n",
    "\n",
    "The submarine seems to already have a planned course (your puzzle input). You should probably figure out where it's going. For example:\n",
    "\n",
    "forward 5 down 5 forward 8 up 3 down 8 forward 2 Your horizontal position and depth both start at 0. The steps above would then modify them as follows:\n",
    "\n",
    "forward 5 adds 5 to your horizontal position, a total of 5. down 5 adds 5 to your depth, resulting in a value of 5. forward 8 adds 8 to your horizontal position, a total of 13. up 3 decreases your depth by 3, resulting in a value of 2. down 8 adds 8 to your depth, resulting in a value of 10. forward 2 adds 2 to your horizontal position, a total of 15. After following these instructions, you would have a horizontal position of 15 and a depth of 10. (Multiplying these together produces 150.)\n",
    "\n",
    "Calculate the horizontal position and depth you would have after following the planned course. What do you get if you multiply your final horizontal position by your final depth?"
   ]
  },
  {
   "cell_type": "code",
   "execution_count": 2,
   "id": "475df2e3",
   "metadata": {},
   "outputs": [],
   "source": [
    "df = pd.read_csv('input.txt', header=None, names=['data'])"
   ]
  },
  {
   "cell_type": "code",
   "execution_count": 3,
   "id": "a4acdc46",
   "metadata": {},
   "outputs": [],
   "source": [
    "df = df['data'].str.split(expand=True)"
   ]
  },
  {
   "cell_type": "code",
   "execution_count": 4,
   "id": "6ff65061",
   "metadata": {},
   "outputs": [],
   "source": [
    "df[1] = pd.to_numeric(df[1])\n",
    "        "
   ]
  },
  {
   "cell_type": "code",
   "execution_count": 5,
   "id": "3efb49a4",
   "metadata": {},
   "outputs": [],
   "source": [
    "horizontal_pos = df[df[0].str.contains(\"forward\")][1].sum()\n",
    "depth =  (df[df[0].str.contains(\"down\")][1].sum()) - (df[df[0].str.contains(\"up\")][1].sum())\n"
   ]
  },
  {
   "cell_type": "code",
   "execution_count": 6,
   "id": "4ab630a6",
   "metadata": {},
   "outputs": [
    {
     "data": {
      "text/plain": [
       "1427868"
      ]
     },
     "execution_count": 6,
     "metadata": {},
     "output_type": "execute_result"
    }
   ],
   "source": [
    "horizontal_pos * depth"
   ]
  },
  {
   "cell_type": "markdown",
   "id": "572fd6f4",
   "metadata": {},
   "source": [
    "# Part 2\n",
    "Based on your calculations, the planned course doesn't seem to make any sense. You find the submarine manual and discover that the process is actually slightly more complicated.\n",
    "\n",
    "In addition to horizontal position and depth, you'll also need to track a third value, aim, which also starts at 0. The commands also mean something entirely different than you first thought:\n",
    "\n",
    "down X increases your aim by X units. up X decreases your aim by X units. forward X does two things: It increases your horizontal position by X units. It increases your depth by your aim multiplied by X. Again note that since you're on a submarine, down and up do the opposite of what you might expect: \"down\" means aiming in the positive direction.\n",
    "\n",
    "Now, the above example does something different:\n",
    "\n",
    "forward 5 adds 5 to your horizontal position, a total of 5. Because your aim is 0, your depth does not change. down 5 adds 5 to your aim, resulting in a value of 5. forward 8 adds 8 to your horizontal position, a total of 13. Because your aim is 5, your depth increases by 85=40. up 3 decreases your aim by 3, resulting in a value of 2. down 8 adds 8 to your aim, resulting in a value of 10. forward 2 adds 2 to your horizontal position, a total of 15. Because your aim is 10, your depth increases by 210=20 to a total of 60. After following these new instructions, you would have a horizontal position of 15 and a depth of 60. (Multiplying these produces 900.)\n",
    "\n",
    "Using this new interpretation of the commands, calculate the horizontal position and depth you would have after following the planned course. What do you get if you multiply your final horizontal position by your final depth?"
   ]
  },
  {
   "cell_type": "code",
   "execution_count": 7,
   "id": "96299647",
   "metadata": {},
   "outputs": [],
   "source": [
    "up = df[0].str.contains('up', regex= True, na=False)"
   ]
  },
  {
   "cell_type": "code",
   "execution_count": 8,
   "id": "663177b5",
   "metadata": {},
   "outputs": [],
   "source": [
    "df.loc[up, 1] *= -1"
   ]
  },
  {
   "cell_type": "code",
   "execution_count": 9,
   "id": "ff2a0049",
   "metadata": {},
   "outputs": [],
   "source": [
    "df['aim'] =  df[(df[0].str.contains(\"down\")) | (df[0].str.contains(\"up\"))][1].cumsum()\n"
   ]
  },
  {
   "cell_type": "code",
   "execution_count": 10,
   "id": "f94d6b7a",
   "metadata": {},
   "outputs": [],
   "source": [
    "df['horizontal_pos']=df[df[0].str.contains(\"forward\")][1].cumsum()"
   ]
  },
  {
   "cell_type": "code",
   "execution_count": 11,
   "id": "46c801e0",
   "metadata": {},
   "outputs": [],
   "source": [
    "df = df.fillna(method='ffill')\n",
    "df = df.fillna(value=0)"
   ]
  },
  {
   "cell_type": "code",
   "execution_count": 12,
   "id": "27c3c7ee",
   "metadata": {},
   "outputs": [],
   "source": [
    "forward = df[0].str.contains('forward', regex= True, na=False)"
   ]
  },
  {
   "cell_type": "code",
   "execution_count": 13,
   "id": "3dbe45e6",
   "metadata": {},
   "outputs": [],
   "source": [
    "df['depth'] = (df.loc[forward, 1] * df['aim']).cumsum()\n",
    "df = df.fillna(method='ffill')"
   ]
  },
  {
   "cell_type": "code",
   "execution_count": 14,
   "id": "f3dd1b65",
   "metadata": {},
   "outputs": [
    {
     "data": {
      "text/plain": [
       "1568138742"
      ]
     },
     "execution_count": 14,
     "metadata": {},
     "output_type": "execute_result"
    }
   ],
   "source": [
    "int(df.iloc[999].depth * df.iloc[999].horizontal_pos)\n"
   ]
  }
 ],
 "metadata": {
  "kernelspec": {
   "display_name": "Python 3 (ipykernel)",
   "language": "python",
   "name": "python3"
  },
  "language_info": {
   "codemirror_mode": {
    "name": "ipython",
    "version": 3
   },
   "file_extension": ".py",
   "mimetype": "text/x-python",
   "name": "python",
   "nbconvert_exporter": "python",
   "pygments_lexer": "ipython3",
   "version": "3.9.5"
  }
 },
 "nbformat": 4,
 "nbformat_minor": 5
}
