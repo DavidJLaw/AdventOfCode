{
 "cells": [
  {
   "cell_type": "code",
   "execution_count": 55,
   "id": "3e88e759-616f-4f2d-a94a-a12a5d808c3e",
   "metadata": {},
   "outputs": [],
   "source": [
    "import numpy as np"
   ]
  },
  {
   "cell_type": "code",
   "execution_count": 73,
   "id": "c3bbfee3-e7bb-46cb-a5e8-0afb37c45532",
   "metadata": {},
   "outputs": [],
   "source": [
    "data = data = [x for x in open('input.txt').read().strip().split('\\n')]"
   ]
  },
  {
   "cell_type": "code",
   "execution_count": 76,
   "id": "62131038-26f1-487a-b615-7b32a42867e8",
   "metadata": {},
   "outputs": [
    {
     "data": {
      "text/plain": [
       "493"
      ]
     },
     "execution_count": 76,
     "metadata": {},
     "output_type": "execute_result"
    }
   ],
   "source": [
    "sum(sum(1 for string in line.split(\" | \")[1].split() if len(string) in [2, 3, 4, 7]) for line in data)\n"
   ]
  },
  {
   "cell_type": "code",
   "execution_count": 83,
   "id": "fe3931f9-21b6-4e81-a21e-c58b22587d42",
   "metadata": {},
   "outputs": [
    {
     "data": {
      "text/plain": [
       "1010460"
      ]
     },
     "execution_count": 83,
     "metadata": {},
     "output_type": "execute_result"
    }
   ],
   "source": [
    "def interpret(line):\n",
    "    _input = line.split(\" | \")[0].split()\n",
    "\n",
    "    one = [string for string in _input if len(string) == 2].pop()\n",
    "    seven = [string for string in _input if len(string) == 3].pop()\n",
    "    four = [string for string in _input if len(string) == 4].pop()\n",
    "    eight = [string for string in _input if len(string) == 7].pop()\n",
    "\n",
    "    two_three_five = [string for string in _input if len(string) == 5]\n",
    "    three = [string for string in two_three_five if all(s not in one for s in [c for c in eight if c not in string])].pop()\n",
    "    two = [string for string in two_three_five if sorted(list({c for c in string + four})) == sorted(list(c for c in eight))].pop()\n",
    "    five = [string for string in two_three_five if string not in [two, three]].pop()\n",
    "    \n",
    "    zero_six_nine = [string for string in _input if len(string) == 6]\n",
    "    nine = [string for string in zero_six_nine if [s for s in eight if s not in string].pop() not in four].pop()\n",
    "    zero_six = [string for string in zero_six_nine if string != nine]\n",
    "    six = [string for string in zero_six_nine if [s for s in eight if s not in string].pop() in one].pop()\n",
    "    zero = [string for string in zero_six if string != six].pop()\n",
    "\n",
    "    lookup = {\n",
    "        \"\".join(sorted(zero)): \"0\",\n",
    "        \"\".join(sorted(one)): \"1\",\n",
    "        \"\".join(sorted(two)): \"2\",\n",
    "        \"\".join(sorted(three)): \"3\",\n",
    "        \"\".join(sorted(four)): \"4\",\n",
    "        \"\".join(sorted(five)): \"5\",\n",
    "        \"\".join(sorted(six)): \"6\",\n",
    "        \"\".join(sorted(seven)): \"7\",\n",
    "        \"\".join(sorted(eight)): \"8\",\n",
    "        \"\".join(sorted(nine)): \"9\",\n",
    "    }\n",
    "\n",
    "    return int(\"\".join(lookup[\"\".join(sorted(d))] for d in line.split(\" | \")[1].split()))\n",
    "\n",
    "sum(interpret(line) for line in data)"
   ]
  }
 ],
 "metadata": {
  "kernelspec": {
   "display_name": "Python 3 (ipykernel)",
   "language": "python",
   "name": "python3"
  },
  "language_info": {
   "codemirror_mode": {
    "name": "ipython",
    "version": 3
   },
   "file_extension": ".py",
   "mimetype": "text/x-python",
   "name": "python",
   "nbconvert_exporter": "python",
   "pygments_lexer": "ipython3",
   "version": "3.9.5"
  }
 },
 "nbformat": 4,
 "nbformat_minor": 5
}
